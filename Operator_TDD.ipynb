{
  "cells": [
    {
      "cell_type": "code",
      "execution_count": 1,
      "metadata": {
        "colab": {
          "base_uri": "https://localhost:8080/"
        },
        "id": "2DYvYvtt9y6K",
        "outputId": "e5964f83-9f2e-4bc4-a528-3a1999c8843b"
      },
      "outputs": [
        {
          "name": "stdout",
          "output_type": "stream",
          "text": [
            "Requirement already satisfied: pytest in c:\\users\\tarko\\appdata\\local\\programs\\python\\python39\\lib\\site-packages (6.2.5)\n",
            "Requirement already satisfied: colorama in c:\\users\\tarko\\appdata\\local\\programs\\python\\python39\\lib\\site-packages (from pytest) (0.4.4)\n",
            "Requirement already satisfied: iniconfig in c:\\users\\tarko\\appdata\\local\\programs\\python\\python39\\lib\\site-packages (from pytest) (1.1.1)\n",
            "Requirement already satisfied: packaging in c:\\users\\tarko\\appdata\\local\\programs\\python\\python39\\lib\\site-packages (from pytest) (21.3)\n",
            "Requirement already satisfied: attrs>=19.2.0 in c:\\users\\tarko\\appdata\\local\\programs\\python\\python39\\lib\\site-packages (from pytest) (21.4.0)\n",
            "Requirement already satisfied: toml in c:\\users\\tarko\\appdata\\local\\programs\\python\\python39\\lib\\site-packages (from pytest) (0.10.2)\n",
            "Requirement already satisfied: pluggy<2.0,>=0.12 in c:\\users\\tarko\\appdata\\local\\programs\\python\\python39\\lib\\site-packages (from pytest) (1.0.0)\n",
            "Requirement already satisfied: atomicwrites>=1.0 in c:\\users\\tarko\\appdata\\local\\programs\\python\\python39\\lib\\site-packages (from pytest) (1.4.0)\n",
            "Requirement already satisfied: py>=1.8.2 in c:\\users\\tarko\\appdata\\local\\programs\\python\\python39\\lib\\site-packages (from pytest) (1.11.0)\n",
            "Requirement already satisfied: pyparsing!=3.0.5,>=2.0.2 in c:\\users\\tarko\\appdata\\local\\programs\\python\\python39\\lib\\site-packages (from packaging->pytest) (3.0.7)\n",
            "Note: you may need to restart the kernel to use updated packages.\n"
          ]
        },
        {
          "name": "stderr",
          "output_type": "stream",
          "text": [
            "WARNING: You are using pip version 21.2.4; however, version 22.0.2 is available.\n",
            "You should consider upgrading via the 'C:\\Users\\tarko\\AppData\\Local\\Programs\\Python\\Python39\\python.exe -m pip install --upgrade pip' command.\n"
          ]
        }
      ],
      "source": [
        "pip install pytest"
      ]
    },
    {
      "cell_type": "code",
      "execution_count": 2,
      "metadata": {
        "colab": {
          "base_uri": "https://localhost:8080/"
        },
        "id": "v-7m85kmFSYb",
        "outputId": "9a3fcc25-a66f-45db-ab65-9b8e837dfdd1"
      },
      "outputs": [
        {
          "name": "stdout",
          "output_type": "stream",
          "text": [
            "Requirement already satisfied: pytest-sugar in c:\\users\\tarko\\appdata\\local\\programs\\python\\python39\\lib\\site-packages (0.9.4)\n",
            "Requirement already satisfied: pytest>=2.9 in c:\\users\\tarko\\appdata\\local\\programs\\python\\python39\\lib\\site-packages (from pytest-sugar) (6.2.5)\n",
            "Requirement already satisfied: termcolor>=1.1.0 in c:\\users\\tarko\\appdata\\local\\programs\\python\\python39\\lib\\site-packages (from pytest-sugar) (1.1.0)\n",
            "Requirement already satisfied: packaging>=14.1 in c:\\users\\tarko\\appdata\\local\\programs\\python\\python39\\lib\\site-packages (from pytest-sugar) (21.3)\n",
            "Requirement already satisfied: pyparsing!=3.0.5,>=2.0.2 in c:\\users\\tarko\\appdata\\local\\programs\\python\\python39\\lib\\site-packages (from packaging>=14.1->pytest-sugar) (3.0.7)\n",
            "Requirement already satisfied: pluggy<2.0,>=0.12 in c:\\users\\tarko\\appdata\\local\\programs\\python\\python39\\lib\\site-packages (from pytest>=2.9->pytest-sugar) (1.0.0)\n",
            "Requirement already satisfied: iniconfig in c:\\users\\tarko\\appdata\\local\\programs\\python\\python39\\lib\\site-packages (from pytest>=2.9->pytest-sugar) (1.1.1)\n",
            "Requirement already satisfied: colorama in c:\\users\\tarko\\appdata\\local\\programs\\python\\python39\\lib\\site-packages (from pytest>=2.9->pytest-sugar) (0.4.4)\n",
            "Requirement already satisfied: toml in c:\\users\\tarko\\appdata\\local\\programs\\python\\python39\\lib\\site-packages (from pytest>=2.9->pytest-sugar) (0.10.2)\n",
            "Requirement already satisfied: attrs>=19.2.0 in c:\\users\\tarko\\appdata\\local\\programs\\python\\python39\\lib\\site-packages (from pytest>=2.9->pytest-sugar) (21.4.0)\n",
            "Requirement already satisfied: py>=1.8.2 in c:\\users\\tarko\\appdata\\local\\programs\\python\\python39\\lib\\site-packages (from pytest>=2.9->pytest-sugar) (1.11.0)\n",
            "Requirement already satisfied: atomicwrites>=1.0 in c:\\users\\tarko\\appdata\\local\\programs\\python\\python39\\lib\\site-packages (from pytest>=2.9->pytest-sugar) (1.4.0)\n",
            "Note: you may need to restart the kernel to use updated packages.\n"
          ]
        },
        {
          "name": "stderr",
          "output_type": "stream",
          "text": [
            "WARNING: You are using pip version 21.2.4; however, version 22.0.2 is available.\n",
            "You should consider upgrading via the 'C:\\Users\\tarko\\AppData\\Local\\Programs\\Python\\Python39\\python.exe -m pip install --upgrade pip' command.\n"
          ]
        }
      ],
      "source": [
        "pip install pytest-sugar"
      ]
    },
    {
      "cell_type": "code",
      "execution_count": 4,
      "metadata": {
        "id": "xD4x8qe8FUpK"
      },
      "outputs": [],
      "source": [
        "from pathlib import Path"
      ]
    },
    {
      "cell_type": "code",
      "execution_count": 5,
      "metadata": {
        "colab": {
          "base_uri": "https://localhost:8080/",
          "height": 53
        },
        "id": "AiokVYD4FXYN",
        "outputId": "1b5db707-0592-40e6-f630-115349af0457"
      },
      "outputs": [
        {
          "name": "stdout",
          "output_type": "stream",
          "text": [
            "c:\\Users\\tarko\\Documents\\เรียน\\test program\\test\\tdd\n"
          ]
        },
        {
          "data": {
            "text/plain": [
              "'c:\\\\Users\\\\tarko\\\\Documents\\\\เรียน\\\\test program\\\\test\\\\tdd'"
            ]
          },
          "execution_count": 5,
          "metadata": {},
          "output_type": "execute_result"
        }
      ],
      "source": [
        "if Path.cwd().name != 'tdd':\n",
        " %mkdir tdd\n",
        " %cd tdd\n",
        "%pwd"
      ]
    },
    {
      "cell_type": "code",
      "execution_count": 6,
      "metadata": {
        "colab": {
          "base_uri": "https://localhost:8080/"
        },
        "id": "Dmlj63jgFtPh",
        "outputId": "1cb2f20c-90b8-4657-8c4d-a77de073c590"
      },
      "outputs": [
        {
          "name": "stderr",
          "output_type": "stream",
          "text": [
            "UsageError: Line magic function `%rm` not found.\n"
          ]
        }
      ],
      "source": [
        "%rm *.ipynb\n",
        "%rm *.py"
      ]
    },
    {
      "cell_type": "markdown",
      "metadata": {
        "id": "6XDZYi06zub3"
      },
      "source": [
        "# **โจทย์**\n",
        "รับจํานวนเต็ม x, y, และ z \n",
        "1. z = 1 โปรแกรมจะหาค่า x + y \n",
        "2. z = 2 โปรแกรมจะพิมพ์ค่าของ x – y \n",
        "3. z = 3 โปรแกรมจะพิมพ์ค่าของ x * y \n",
        "4. z = 4 โปรแกรมจะพิมพ์ค่าของ x÷y \n",
        "5. z = 5 โปรแกรมจะพิมพ์ค่าเศษจากการหาร x ด้วย \n",
        "\n",
        " ดังนั้น ถ้า z = 4 หรือ 5 และ y = 0 โปรแกรมจะพิมพ์คําว่า cannot divide by zero"
      ]
    },
    {
      "cell_type": "code",
      "execution_count": 1,
      "metadata": {
        "colab": {
          "base_uri": "https://localhost:8080/"
        },
        "id": "Z7yKXBupFvEK",
        "outputId": "7bbee15e-6bd6-40cb-c510-2c1b778c992a"
      },
      "outputs": [
        {
          "name": "stdout",
          "output_type": "stream",
          "text": [
            "Writing test_operator.py\n"
          ]
        }
      ],
      "source": [
        "%%file test_operator.py\n",
        "import math\n",
        "def oprator(x,y,z):\n",
        "  if y == 0 :\n",
        "    if z == 4 or z == 5 :\n",
        "     return \"cannot divide by zero\"\n",
        "    elif z == 1 :\n",
        "      return x + y\n",
        "    elif z == 2 :\n",
        "      return x-y\n",
        "    elif z == 3 :\n",
        "      return x*y\n",
        "    elif z == 4 :\n",
        "      return x/y\n",
        "    elif z == 5 :\n",
        "      return x%y \n",
        "\n",
        "  elif z == 1 :\n",
        "   return x + y\n",
        "  elif z == 2 :\n",
        "   return x-y\n",
        "  elif z == 3 :\n",
        "   return x*y\n",
        "  elif z == 4 :\n",
        "    return x/y\n",
        "  elif z == 5 :\n",
        "    return x%y \n",
        " \n",
        "\n",
        "def test_answer() : \n",
        "  assert  oprator(12,3,1) ==  15\n",
        "  assert  oprator(12,3,2) ==  9\n",
        "  assert  oprator(12,3,3) ==  36\n",
        "  assert  oprator(12,3,4) ==  4\n",
        "  assert  oprator(12,3,5) ==  0\n",
        "  assert  oprator(4,0,5) ==  \"cannot divide by zero\"\n",
        "  assert  oprator(12,0,5) ==  \"cannot divide by zero\"\n",
        "  assert  oprator(12,0,1) ==  12\n",
        "  assert  oprator(12,0,2) ==  12\n",
        "  assert  oprator(12,0,3) ==  0\n",
        "\n",
        "  assert  oprator(20,22,1) ==  42\n",
        "  assert  oprator(29,19,2) ==  10\n",
        "  assert  oprator(56,9,3) ==  504\n",
        "  assert  oprator(98,2,4) ==  49\n",
        "  assert  oprator(50,10,5) ==  0\n",
        "  assert  oprator(100,0,4) ==  \"cannot divide by zero\"\n",
        "  assert  oprator(9,0,5) ==  \"cannot divide by zero\"\n",
        "  assert  oprator(58,0,1) ==  58\n",
        "  assert  oprator(89,0,2) ==  89\n",
        "  assert  oprator(76,0,3) ==  0\n"
      ]
    },
    {
      "cell_type": "code",
      "execution_count": 2,
      "metadata": {
        "colab": {
          "base_uri": "https://localhost:8080/"
        },
        "id": "1FmB9ZB8KtPX",
        "outputId": "9054dd81-89cb-49c6-c935-ed88236b99c4"
      },
      "outputs": [
        {
          "name": "stdout",
          "output_type": "stream",
          "text": [
            "============================= test session starts =============================\n",
            "platform win32 -- Python 3.9.10, pytest-6.2.5, py-1.11.0, pluggy-1.0.0\n",
            "rootdir: c:\\Users\\tarko\\Documents\\เรียน\\test program\\test\n",
            "plugins: sugar-0.9.4\n",
            "collected 1 item\n",
            "\n",
            "test_operator.py .                                                       [100%]\n",
            "\n",
            "============================== 1 passed in 0.10s ==============================\n"
          ]
        }
      ],
      "source": [
        "!python -m pytest test_operator.py"
      ]
    },
    {
      "cell_type": "code",
      "execution_count": null,
      "metadata": {
        "id": "qFy1tL7sLGMP"
      },
      "outputs": [],
      "source": []
    }
  ],
  "metadata": {
    "colab": {
      "collapsed_sections": [],
      "name": "OperatorTestcase.ipynb",
      "provenance": []
    },
    "kernelspec": {
      "display_name": "Python 3",
      "name": "python3"
    },
    "language_info": {
      "codemirror_mode": {
        "name": "ipython",
        "version": 3
      },
      "file_extension": ".py",
      "mimetype": "text/x-python",
      "name": "python",
      "nbconvert_exporter": "python",
      "pygments_lexer": "ipython3",
      "version": "3.9.10"
    }
  },
  "nbformat": 4,
  "nbformat_minor": 0
}
